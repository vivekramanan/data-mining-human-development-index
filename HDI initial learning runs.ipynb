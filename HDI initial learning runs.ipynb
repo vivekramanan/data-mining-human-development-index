{
 "cells": [
  {
   "cell_type": "code",
   "execution_count": 2,
   "metadata": {
    "collapsed": true
   },
   "outputs": [],
   "source": [
    "import pandas as pd\n",
    "import matplotlib\n",
    "%matplotlib  inline\n",
    "import matplotlib.pyplot as plt\n",
    "import numpy as np\n",
    "from pylab import *"
   ]
  },
  {
   "cell_type": "code",
   "execution_count": 3,
   "metadata": {
    "collapsed": true
   },
   "outputs": [],
   "source": [
    "human_dev = pd.read_csv(\"human_development.csv\")\n",
    "hist_index = pd.read_csv(\"historical_index.csv\")"
   ]
  },
  {
   "cell_type": "code",
   "execution_count": 4,
   "metadata": {
    "collapsed": false
   },
   "outputs": [
    {
     "data": {
      "text/html": [
       "<div>\n",
       "<table border=\"1\" class=\"dataframe\">\n",
       "  <thead>\n",
       "    <tr style=\"text-align: right;\">\n",
       "      <th></th>\n",
       "      <th>HDI Rank</th>\n",
       "      <th>Country</th>\n",
       "      <th>Human Development Index (HDI)</th>\n",
       "      <th>Life Expectancy at Birth</th>\n",
       "      <th>Expected Years of Education</th>\n",
       "      <th>Mean Years of Education</th>\n",
       "      <th>Gross National Income (GNI) per Capita</th>\n",
       "      <th>GNI per Capita Rank Minus HDI Rank</th>\n",
       "    </tr>\n",
       "  </thead>\n",
       "  <tbody>\n",
       "    <tr>\n",
       "      <th>0</th>\n",
       "      <td>1.0</td>\n",
       "      <td>Norway</td>\n",
       "      <td>0.94</td>\n",
       "      <td>81.6</td>\n",
       "      <td>17.5</td>\n",
       "      <td>12.6</td>\n",
       "      <td>64992.0</td>\n",
       "      <td>5.0</td>\n",
       "    </tr>\n",
       "    <tr>\n",
       "      <th>1</th>\n",
       "      <td>2.0</td>\n",
       "      <td>Australia</td>\n",
       "      <td>0.94</td>\n",
       "      <td>82.4</td>\n",
       "      <td>20.2</td>\n",
       "      <td>13.0</td>\n",
       "      <td>42261.0</td>\n",
       "      <td>17.0</td>\n",
       "    </tr>\n",
       "    <tr>\n",
       "      <th>2</th>\n",
       "      <td>3.0</td>\n",
       "      <td>Switzerland</td>\n",
       "      <td>0.93</td>\n",
       "      <td>83.0</td>\n",
       "      <td>15.8</td>\n",
       "      <td>12.8</td>\n",
       "      <td>56431.0</td>\n",
       "      <td>6.0</td>\n",
       "    </tr>\n",
       "    <tr>\n",
       "      <th>3</th>\n",
       "      <td>4.0</td>\n",
       "      <td>Denmark</td>\n",
       "      <td>0.92</td>\n",
       "      <td>80.2</td>\n",
       "      <td>18.7</td>\n",
       "      <td>12.7</td>\n",
       "      <td>44025.0</td>\n",
       "      <td>11.0</td>\n",
       "    </tr>\n",
       "    <tr>\n",
       "      <th>4</th>\n",
       "      <td>5.0</td>\n",
       "      <td>Netherlands</td>\n",
       "      <td>0.92</td>\n",
       "      <td>81.6</td>\n",
       "      <td>17.9</td>\n",
       "      <td>11.9</td>\n",
       "      <td>45435.0</td>\n",
       "      <td>9.0</td>\n",
       "    </tr>\n",
       "  </tbody>\n",
       "</table>\n",
       "</div>"
      ],
      "text/plain": [
       "   HDI Rank      Country  Human Development Index (HDI)  \\\n",
       "0       1.0       Norway                           0.94   \n",
       "1       2.0    Australia                           0.94   \n",
       "2       3.0  Switzerland                           0.93   \n",
       "3       4.0      Denmark                           0.92   \n",
       "4       5.0  Netherlands                           0.92   \n",
       "\n",
       "   Life Expectancy at Birth  Expected Years of Education  \\\n",
       "0                      81.6                         17.5   \n",
       "1                      82.4                         20.2   \n",
       "2                      83.0                         15.8   \n",
       "3                      80.2                         18.7   \n",
       "4                      81.6                         17.9   \n",
       "\n",
       "   Mean Years of Education  Gross National Income (GNI) per Capita  \\\n",
       "0                     12.6                                 64992.0   \n",
       "1                     13.0                                 42261.0   \n",
       "2                     12.8                                 56431.0   \n",
       "3                     12.7                                 44025.0   \n",
       "4                     11.9                                 45435.0   \n",
       "\n",
       "   GNI per Capita Rank Minus HDI Rank  \n",
       "0                                 5.0  \n",
       "1                                17.0  \n",
       "2                                 6.0  \n",
       "3                                11.0  \n",
       "4                                 9.0  "
      ]
     },
     "execution_count": 4,
     "metadata": {},
     "output_type": "execute_result"
    }
   ],
   "source": [
    "human_dev[0:5]"
   ]
  },
  {
   "cell_type": "code",
   "execution_count": 5,
   "metadata": {
    "collapsed": false
   },
   "outputs": [
    {
     "data": {
      "text/plain": [
       "195"
      ]
     },
     "execution_count": 5,
     "metadata": {},
     "output_type": "execute_result"
    }
   ],
   "source": [
    "len(human_dev[\"HDI Rank\"])"
   ]
  },
  {
   "cell_type": "code",
   "execution_count": 6,
   "metadata": {
    "collapsed": false
   },
   "outputs": [],
   "source": [
    "top_50 = human_dev.loc[0:50]\n",
    "mid_50 = human_dev.loc[51:100]\n",
    "low_50 = human_dev.loc[101:150]\n",
    "last_50 = human_dev.loc[151:195]"
   ]
  },
  {
   "cell_type": "code",
   "execution_count": 7,
   "metadata": {
    "collapsed": false
   },
   "outputs": [
    {
     "data": {
      "text/html": [
       "<div>\n",
       "<table border=\"1\" class=\"dataframe\">\n",
       "  <thead>\n",
       "    <tr style=\"text-align: right;\">\n",
       "      <th></th>\n",
       "      <th>HDI Rank</th>\n",
       "      <th>Country</th>\n",
       "      <th>Human Development Index (HDI)</th>\n",
       "      <th>Life Expectancy at Birth</th>\n",
       "      <th>Expected Years of Education</th>\n",
       "      <th>Mean Years of Education</th>\n",
       "      <th>Gross National Income (GNI) per Capita</th>\n",
       "      <th>GNI per Capita Rank Minus HDI Rank</th>\n",
       "    </tr>\n",
       "  </thead>\n",
       "  <tbody>\n",
       "    <tr>\n",
       "      <th>101</th>\n",
       "      <td>101.0</td>\n",
       "      <td>Dominican Republic</td>\n",
       "      <td>0.72</td>\n",
       "      <td>73.5</td>\n",
       "      <td>13.1</td>\n",
       "      <td>7.6</td>\n",
       "      <td>11883.0</td>\n",
       "      <td>-12.0</td>\n",
       "    </tr>\n",
       "    <tr>\n",
       "      <th>102</th>\n",
       "      <td>103.0</td>\n",
       "      <td>Suriname</td>\n",
       "      <td>0.71</td>\n",
       "      <td>71.1</td>\n",
       "      <td>12.7</td>\n",
       "      <td>7.7</td>\n",
       "      <td>15617.0</td>\n",
       "      <td>-32.0</td>\n",
       "    </tr>\n",
       "    <tr>\n",
       "      <th>103</th>\n",
       "      <td>104.0</td>\n",
       "      <td>Maldives</td>\n",
       "      <td>0.71</td>\n",
       "      <td>76.8</td>\n",
       "      <td>13.0</td>\n",
       "      <td>5.8</td>\n",
       "      <td>12328.0</td>\n",
       "      <td>-19.0</td>\n",
       "    </tr>\n",
       "    <tr>\n",
       "      <th>104</th>\n",
       "      <td>105.0</td>\n",
       "      <td>Samoa</td>\n",
       "      <td>0.70</td>\n",
       "      <td>73.4</td>\n",
       "      <td>12.9</td>\n",
       "      <td>10.3</td>\n",
       "      <td>5327.0</td>\n",
       "      <td>24.0</td>\n",
       "    </tr>\n",
       "    <tr>\n",
       "      <th>105</th>\n",
       "      <td>106.0</td>\n",
       "      <td>Botswana</td>\n",
       "      <td>0.70</td>\n",
       "      <td>64.5</td>\n",
       "      <td>12.5</td>\n",
       "      <td>8.9</td>\n",
       "      <td>16646.0</td>\n",
       "      <td>-41.0</td>\n",
       "    </tr>\n",
       "  </tbody>\n",
       "</table>\n",
       "</div>"
      ],
      "text/plain": [
       "     HDI Rank             Country  Human Development Index (HDI)  \\\n",
       "101     101.0  Dominican Republic                           0.72   \n",
       "102     103.0            Suriname                           0.71   \n",
       "103     104.0            Maldives                           0.71   \n",
       "104     105.0               Samoa                           0.70   \n",
       "105     106.0            Botswana                           0.70   \n",
       "\n",
       "     Life Expectancy at Birth  Expected Years of Education  \\\n",
       "101                      73.5                         13.1   \n",
       "102                      71.1                         12.7   \n",
       "103                      76.8                         13.0   \n",
       "104                      73.4                         12.9   \n",
       "105                      64.5                         12.5   \n",
       "\n",
       "     Mean Years of Education  Gross National Income (GNI) per Capita  \\\n",
       "101                      7.6                                 11883.0   \n",
       "102                      7.7                                 15617.0   \n",
       "103                      5.8                                 12328.0   \n",
       "104                     10.3                                  5327.0   \n",
       "105                      8.9                                 16646.0   \n",
       "\n",
       "     GNI per Capita Rank Minus HDI Rank  \n",
       "101                               -12.0  \n",
       "102                               -32.0  \n",
       "103                               -19.0  \n",
       "104                                24.0  \n",
       "105                               -41.0  "
      ]
     },
     "execution_count": 7,
     "metadata": {},
     "output_type": "execute_result"
    }
   ],
   "source": [
    "low_50[0:5]"
   ]
  },
  {
   "cell_type": "code",
   "execution_count": 8,
   "metadata": {
    "collapsed": false
   },
   "outputs": [
    {
     "data": {
      "text/html": [
       "<div>\n",
       "<table border=\"1\" class=\"dataframe\">\n",
       "  <thead>\n",
       "    <tr style=\"text-align: right;\">\n",
       "      <th></th>\n",
       "      <th>HDI Rank</th>\n",
       "      <th>Country</th>\n",
       "      <th>Human Development Index (HDI)</th>\n",
       "      <th>Life Expectancy at Birth</th>\n",
       "      <th>Expected Years of Education</th>\n",
       "      <th>Mean Years of Education</th>\n",
       "      <th>Gross National Income (GNI) per Capita</th>\n",
       "      <th>GNI per Capita Rank Minus HDI Rank</th>\n",
       "    </tr>\n",
       "  </thead>\n",
       "  <tbody>\n",
       "    <tr>\n",
       "      <th>151</th>\n",
       "      <td>152.0</td>\n",
       "      <td>Nigeria</td>\n",
       "      <td>0.51</td>\n",
       "      <td>52.8</td>\n",
       "      <td>9.0</td>\n",
       "      <td>5.9</td>\n",
       "      <td>5341.0</td>\n",
       "      <td>-24.0</td>\n",
       "    </tr>\n",
       "    <tr>\n",
       "      <th>152</th>\n",
       "      <td>153.0</td>\n",
       "      <td>Cameroon</td>\n",
       "      <td>0.51</td>\n",
       "      <td>55.5</td>\n",
       "      <td>10.4</td>\n",
       "      <td>6.0</td>\n",
       "      <td>2803.0</td>\n",
       "      <td>-1.0</td>\n",
       "    </tr>\n",
       "    <tr>\n",
       "      <th>153</th>\n",
       "      <td>154.0</td>\n",
       "      <td>Madagascar</td>\n",
       "      <td>0.51</td>\n",
       "      <td>65.1</td>\n",
       "      <td>10.3</td>\n",
       "      <td>6.0</td>\n",
       "      <td>1328.0</td>\n",
       "      <td>24.0</td>\n",
       "    </tr>\n",
       "    <tr>\n",
       "      <th>154</th>\n",
       "      <td>155.0</td>\n",
       "      <td>Zimbabwe</td>\n",
       "      <td>0.51</td>\n",
       "      <td>57.5</td>\n",
       "      <td>10.9</td>\n",
       "      <td>7.3</td>\n",
       "      <td>1615.0</td>\n",
       "      <td>13.0</td>\n",
       "    </tr>\n",
       "    <tr>\n",
       "      <th>155</th>\n",
       "      <td>156.0</td>\n",
       "      <td>Mauritania</td>\n",
       "      <td>0.51</td>\n",
       "      <td>63.1</td>\n",
       "      <td>8.5</td>\n",
       "      <td>3.8</td>\n",
       "      <td>3560.0</td>\n",
       "      <td>-14.0</td>\n",
       "    </tr>\n",
       "    <tr>\n",
       "      <th>156</th>\n",
       "      <td>156.0</td>\n",
       "      <td>Solomon Islands</td>\n",
       "      <td>0.51</td>\n",
       "      <td>67.9</td>\n",
       "      <td>9.2</td>\n",
       "      <td>5.0</td>\n",
       "      <td>1540.0</td>\n",
       "      <td>16.0</td>\n",
       "    </tr>\n",
       "    <tr>\n",
       "      <th>157</th>\n",
       "      <td>158.0</td>\n",
       "      <td>Papua New Guinea</td>\n",
       "      <td>0.51</td>\n",
       "      <td>62.6</td>\n",
       "      <td>9.9</td>\n",
       "      <td>4.0</td>\n",
       "      <td>2463.0</td>\n",
       "      <td>-1.0</td>\n",
       "    </tr>\n",
       "    <tr>\n",
       "      <th>158</th>\n",
       "      <td>159.0</td>\n",
       "      <td>Comoros</td>\n",
       "      <td>0.50</td>\n",
       "      <td>63.3</td>\n",
       "      <td>11.5</td>\n",
       "      <td>4.6</td>\n",
       "      <td>1456.0</td>\n",
       "      <td>16.0</td>\n",
       "    </tr>\n",
       "    <tr>\n",
       "      <th>159</th>\n",
       "      <td>160.0</td>\n",
       "      <td>Yemen</td>\n",
       "      <td>0.50</td>\n",
       "      <td>63.8</td>\n",
       "      <td>9.2</td>\n",
       "      <td>2.6</td>\n",
       "      <td>3519.0</td>\n",
       "      <td>-17.0</td>\n",
       "    </tr>\n",
       "    <tr>\n",
       "      <th>160</th>\n",
       "      <td>161.0</td>\n",
       "      <td>Lesotho</td>\n",
       "      <td>0.50</td>\n",
       "      <td>49.8</td>\n",
       "      <td>11.1</td>\n",
       "      <td>5.9</td>\n",
       "      <td>3306.0</td>\n",
       "      <td>-16.0</td>\n",
       "    </tr>\n",
       "    <tr>\n",
       "      <th>161</th>\n",
       "      <td>162.0</td>\n",
       "      <td>Togo</td>\n",
       "      <td>0.48</td>\n",
       "      <td>59.7</td>\n",
       "      <td>12.2</td>\n",
       "      <td>4.5</td>\n",
       "      <td>1228.0</td>\n",
       "      <td>17.0</td>\n",
       "    </tr>\n",
       "    <tr>\n",
       "      <th>162</th>\n",
       "      <td>163.0</td>\n",
       "      <td>Haiti</td>\n",
       "      <td>0.48</td>\n",
       "      <td>62.8</td>\n",
       "      <td>8.7</td>\n",
       "      <td>4.9</td>\n",
       "      <td>1669.0</td>\n",
       "      <td>4.0</td>\n",
       "    </tr>\n",
       "    <tr>\n",
       "      <th>163</th>\n",
       "      <td>163.0</td>\n",
       "      <td>Rwanda</td>\n",
       "      <td>0.48</td>\n",
       "      <td>64.2</td>\n",
       "      <td>10.3</td>\n",
       "      <td>3.7</td>\n",
       "      <td>1458.0</td>\n",
       "      <td>11.0</td>\n",
       "    </tr>\n",
       "    <tr>\n",
       "      <th>164</th>\n",
       "      <td>163.0</td>\n",
       "      <td>Uganda</td>\n",
       "      <td>0.48</td>\n",
       "      <td>58.5</td>\n",
       "      <td>9.8</td>\n",
       "      <td>5.4</td>\n",
       "      <td>1613.0</td>\n",
       "      <td>6.0</td>\n",
       "    </tr>\n",
       "    <tr>\n",
       "      <th>165</th>\n",
       "      <td>166.0</td>\n",
       "      <td>Benin</td>\n",
       "      <td>0.48</td>\n",
       "      <td>59.6</td>\n",
       "      <td>11.1</td>\n",
       "      <td>3.3</td>\n",
       "      <td>1767.0</td>\n",
       "      <td>0.0</td>\n",
       "    </tr>\n",
       "    <tr>\n",
       "      <th>166</th>\n",
       "      <td>167.0</td>\n",
       "      <td>Sudan</td>\n",
       "      <td>0.48</td>\n",
       "      <td>63.5</td>\n",
       "      <td>7.0</td>\n",
       "      <td>3.1</td>\n",
       "      <td>3809.0</td>\n",
       "      <td>-27.0</td>\n",
       "    </tr>\n",
       "    <tr>\n",
       "      <th>167</th>\n",
       "      <td>168.0</td>\n",
       "      <td>Djibouti</td>\n",
       "      <td>0.47</td>\n",
       "      <td>62.0</td>\n",
       "      <td>6.4</td>\n",
       "      <td>3.8</td>\n",
       "      <td>3276.0</td>\n",
       "      <td>-22.0</td>\n",
       "    </tr>\n",
       "    <tr>\n",
       "      <th>168</th>\n",
       "      <td>169.0</td>\n",
       "      <td>South Sudan</td>\n",
       "      <td>0.47</td>\n",
       "      <td>55.7</td>\n",
       "      <td>7.6</td>\n",
       "      <td>5.4</td>\n",
       "      <td>2332.0</td>\n",
       "      <td>-9.0</td>\n",
       "    </tr>\n",
       "    <tr>\n",
       "      <th>169</th>\n",
       "      <td>170.0</td>\n",
       "      <td>Senegal</td>\n",
       "      <td>0.47</td>\n",
       "      <td>66.5</td>\n",
       "      <td>7.9</td>\n",
       "      <td>2.5</td>\n",
       "      <td>2188.0</td>\n",
       "      <td>-8.0</td>\n",
       "    </tr>\n",
       "    <tr>\n",
       "      <th>170</th>\n",
       "      <td>171.0</td>\n",
       "      <td>Afghanistan</td>\n",
       "      <td>0.47</td>\n",
       "      <td>60.4</td>\n",
       "      <td>9.3</td>\n",
       "      <td>3.2</td>\n",
       "      <td>1885.0</td>\n",
       "      <td>-7.0</td>\n",
       "    </tr>\n",
       "    <tr>\n",
       "      <th>171</th>\n",
       "      <td>172.0</td>\n",
       "      <td>C��te d'Ivoire</td>\n",
       "      <td>0.46</td>\n",
       "      <td>51.5</td>\n",
       "      <td>8.9</td>\n",
       "      <td>4.3</td>\n",
       "      <td>3171.0</td>\n",
       "      <td>-24.0</td>\n",
       "    </tr>\n",
       "    <tr>\n",
       "      <th>172</th>\n",
       "      <td>173.0</td>\n",
       "      <td>Malawi</td>\n",
       "      <td>0.45</td>\n",
       "      <td>62.8</td>\n",
       "      <td>10.8</td>\n",
       "      <td>4.3</td>\n",
       "      <td>747.0</td>\n",
       "      <td>13.0</td>\n",
       "    </tr>\n",
       "    <tr>\n",
       "      <th>173</th>\n",
       "      <td>174.0</td>\n",
       "      <td>Ethiopia</td>\n",
       "      <td>0.44</td>\n",
       "      <td>64.1</td>\n",
       "      <td>8.5</td>\n",
       "      <td>2.4</td>\n",
       "      <td>1428.0</td>\n",
       "      <td>2.0</td>\n",
       "    </tr>\n",
       "    <tr>\n",
       "      <th>174</th>\n",
       "      <td>175.0</td>\n",
       "      <td>Gambia</td>\n",
       "      <td>0.44</td>\n",
       "      <td>60.2</td>\n",
       "      <td>8.8</td>\n",
       "      <td>2.8</td>\n",
       "      <td>1507.0</td>\n",
       "      <td>-2.0</td>\n",
       "    </tr>\n",
       "    <tr>\n",
       "      <th>175</th>\n",
       "      <td>176.0</td>\n",
       "      <td>Congo (Democratic Republic of the)</td>\n",
       "      <td>0.43</td>\n",
       "      <td>58.7</td>\n",
       "      <td>9.8</td>\n",
       "      <td>6.0</td>\n",
       "      <td>680.0</td>\n",
       "      <td>11.0</td>\n",
       "    </tr>\n",
       "    <tr>\n",
       "      <th>176</th>\n",
       "      <td>177.0</td>\n",
       "      <td>Liberia</td>\n",
       "      <td>0.43</td>\n",
       "      <td>60.9</td>\n",
       "      <td>9.5</td>\n",
       "      <td>4.1</td>\n",
       "      <td>805.0</td>\n",
       "      <td>7.0</td>\n",
       "    </tr>\n",
       "    <tr>\n",
       "      <th>177</th>\n",
       "      <td>178.0</td>\n",
       "      <td>Guinea-Bissau</td>\n",
       "      <td>0.42</td>\n",
       "      <td>55.2</td>\n",
       "      <td>9.0</td>\n",
       "      <td>2.8</td>\n",
       "      <td>1362.0</td>\n",
       "      <td>-1.0</td>\n",
       "    </tr>\n",
       "    <tr>\n",
       "      <th>178</th>\n",
       "      <td>179.0</td>\n",
       "      <td>Mali</td>\n",
       "      <td>0.42</td>\n",
       "      <td>58.0</td>\n",
       "      <td>8.4</td>\n",
       "      <td>2.0</td>\n",
       "      <td>1583.0</td>\n",
       "      <td>-8.0</td>\n",
       "    </tr>\n",
       "    <tr>\n",
       "      <th>179</th>\n",
       "      <td>180.0</td>\n",
       "      <td>Mozambique</td>\n",
       "      <td>0.42</td>\n",
       "      <td>55.1</td>\n",
       "      <td>9.3</td>\n",
       "      <td>3.2</td>\n",
       "      <td>1123.0</td>\n",
       "      <td>1.0</td>\n",
       "    </tr>\n",
       "    <tr>\n",
       "      <th>180</th>\n",
       "      <td>181.0</td>\n",
       "      <td>Sierra Leone</td>\n",
       "      <td>0.41</td>\n",
       "      <td>50.9</td>\n",
       "      <td>8.6</td>\n",
       "      <td>3.1</td>\n",
       "      <td>1780.0</td>\n",
       "      <td>-16.0</td>\n",
       "    </tr>\n",
       "    <tr>\n",
       "      <th>181</th>\n",
       "      <td>182.0</td>\n",
       "      <td>Guinea</td>\n",
       "      <td>0.41</td>\n",
       "      <td>58.8</td>\n",
       "      <td>8.7</td>\n",
       "      <td>2.4</td>\n",
       "      <td>1096.0</td>\n",
       "      <td>0.0</td>\n",
       "    </tr>\n",
       "    <tr>\n",
       "      <th>182</th>\n",
       "      <td>183.0</td>\n",
       "      <td>Burkina Faso</td>\n",
       "      <td>0.40</td>\n",
       "      <td>58.7</td>\n",
       "      <td>7.8</td>\n",
       "      <td>1.4</td>\n",
       "      <td>1591.0</td>\n",
       "      <td>-13.0</td>\n",
       "    </tr>\n",
       "    <tr>\n",
       "      <th>183</th>\n",
       "      <td>184.0</td>\n",
       "      <td>Burundi</td>\n",
       "      <td>0.40</td>\n",
       "      <td>56.7</td>\n",
       "      <td>10.1</td>\n",
       "      <td>2.7</td>\n",
       "      <td>758.0</td>\n",
       "      <td>1.0</td>\n",
       "    </tr>\n",
       "    <tr>\n",
       "      <th>184</th>\n",
       "      <td>185.0</td>\n",
       "      <td>Chad</td>\n",
       "      <td>0.39</td>\n",
       "      <td>51.6</td>\n",
       "      <td>7.4</td>\n",
       "      <td>1.9</td>\n",
       "      <td>2085.0</td>\n",
       "      <td>-22.0</td>\n",
       "    </tr>\n",
       "    <tr>\n",
       "      <th>185</th>\n",
       "      <td>186.0</td>\n",
       "      <td>Eritrea</td>\n",
       "      <td>0.39</td>\n",
       "      <td>63.7</td>\n",
       "      <td>4.1</td>\n",
       "      <td>3.9</td>\n",
       "      <td>1130.0</td>\n",
       "      <td>-6.0</td>\n",
       "    </tr>\n",
       "    <tr>\n",
       "      <th>186</th>\n",
       "      <td>187.0</td>\n",
       "      <td>Central African Republic</td>\n",
       "      <td>0.35</td>\n",
       "      <td>50.7</td>\n",
       "      <td>7.2</td>\n",
       "      <td>4.2</td>\n",
       "      <td>581.0</td>\n",
       "      <td>1.0</td>\n",
       "    </tr>\n",
       "    <tr>\n",
       "      <th>187</th>\n",
       "      <td>188.0</td>\n",
       "      <td>Niger</td>\n",
       "      <td>0.35</td>\n",
       "      <td>61.4</td>\n",
       "      <td>5.4</td>\n",
       "      <td>1.5</td>\n",
       "      <td>908.0</td>\n",
       "      <td>-5.0</td>\n",
       "    </tr>\n",
       "  </tbody>\n",
       "</table>\n",
       "</div>"
      ],
      "text/plain": [
       "     HDI Rank                             Country  \\\n",
       "151     152.0                             Nigeria   \n",
       "152     153.0                            Cameroon   \n",
       "153     154.0                          Madagascar   \n",
       "154     155.0                            Zimbabwe   \n",
       "155     156.0                          Mauritania   \n",
       "156     156.0                     Solomon Islands   \n",
       "157     158.0                    Papua New Guinea   \n",
       "158     159.0                             Comoros   \n",
       "159     160.0                               Yemen   \n",
       "160     161.0                             Lesotho   \n",
       "161     162.0                                Togo   \n",
       "162     163.0                               Haiti   \n",
       "163     163.0                              Rwanda   \n",
       "164     163.0                              Uganda   \n",
       "165     166.0                               Benin   \n",
       "166     167.0                               Sudan   \n",
       "167     168.0                            Djibouti   \n",
       "168     169.0                         South Sudan   \n",
       "169     170.0                             Senegal   \n",
       "170     171.0                         Afghanistan   \n",
       "171     172.0                      C��te d'Ivoire   \n",
       "172     173.0                              Malawi   \n",
       "173     174.0                            Ethiopia   \n",
       "174     175.0                              Gambia   \n",
       "175     176.0  Congo (Democratic Republic of the)   \n",
       "176     177.0                             Liberia   \n",
       "177     178.0                       Guinea-Bissau   \n",
       "178     179.0                                Mali   \n",
       "179     180.0                          Mozambique   \n",
       "180     181.0                        Sierra Leone   \n",
       "181     182.0                              Guinea   \n",
       "182     183.0                        Burkina Faso   \n",
       "183     184.0                             Burundi   \n",
       "184     185.0                                Chad   \n",
       "185     186.0                             Eritrea   \n",
       "186     187.0            Central African Republic   \n",
       "187     188.0                               Niger   \n",
       "\n",
       "     Human Development Index (HDI)  Life Expectancy at Birth  \\\n",
       "151                           0.51                      52.8   \n",
       "152                           0.51                      55.5   \n",
       "153                           0.51                      65.1   \n",
       "154                           0.51                      57.5   \n",
       "155                           0.51                      63.1   \n",
       "156                           0.51                      67.9   \n",
       "157                           0.51                      62.6   \n",
       "158                           0.50                      63.3   \n",
       "159                           0.50                      63.8   \n",
       "160                           0.50                      49.8   \n",
       "161                           0.48                      59.7   \n",
       "162                           0.48                      62.8   \n",
       "163                           0.48                      64.2   \n",
       "164                           0.48                      58.5   \n",
       "165                           0.48                      59.6   \n",
       "166                           0.48                      63.5   \n",
       "167                           0.47                      62.0   \n",
       "168                           0.47                      55.7   \n",
       "169                           0.47                      66.5   \n",
       "170                           0.47                      60.4   \n",
       "171                           0.46                      51.5   \n",
       "172                           0.45                      62.8   \n",
       "173                           0.44                      64.1   \n",
       "174                           0.44                      60.2   \n",
       "175                           0.43                      58.7   \n",
       "176                           0.43                      60.9   \n",
       "177                           0.42                      55.2   \n",
       "178                           0.42                      58.0   \n",
       "179                           0.42                      55.1   \n",
       "180                           0.41                      50.9   \n",
       "181                           0.41                      58.8   \n",
       "182                           0.40                      58.7   \n",
       "183                           0.40                      56.7   \n",
       "184                           0.39                      51.6   \n",
       "185                           0.39                      63.7   \n",
       "186                           0.35                      50.7   \n",
       "187                           0.35                      61.4   \n",
       "\n",
       "     Expected Years of Education  Mean Years of Education  \\\n",
       "151                          9.0                      5.9   \n",
       "152                         10.4                      6.0   \n",
       "153                         10.3                      6.0   \n",
       "154                         10.9                      7.3   \n",
       "155                          8.5                      3.8   \n",
       "156                          9.2                      5.0   \n",
       "157                          9.9                      4.0   \n",
       "158                         11.5                      4.6   \n",
       "159                          9.2                      2.6   \n",
       "160                         11.1                      5.9   \n",
       "161                         12.2                      4.5   \n",
       "162                          8.7                      4.9   \n",
       "163                         10.3                      3.7   \n",
       "164                          9.8                      5.4   \n",
       "165                         11.1                      3.3   \n",
       "166                          7.0                      3.1   \n",
       "167                          6.4                      3.8   \n",
       "168                          7.6                      5.4   \n",
       "169                          7.9                      2.5   \n",
       "170                          9.3                      3.2   \n",
       "171                          8.9                      4.3   \n",
       "172                         10.8                      4.3   \n",
       "173                          8.5                      2.4   \n",
       "174                          8.8                      2.8   \n",
       "175                          9.8                      6.0   \n",
       "176                          9.5                      4.1   \n",
       "177                          9.0                      2.8   \n",
       "178                          8.4                      2.0   \n",
       "179                          9.3                      3.2   \n",
       "180                          8.6                      3.1   \n",
       "181                          8.7                      2.4   \n",
       "182                          7.8                      1.4   \n",
       "183                         10.1                      2.7   \n",
       "184                          7.4                      1.9   \n",
       "185                          4.1                      3.9   \n",
       "186                          7.2                      4.2   \n",
       "187                          5.4                      1.5   \n",
       "\n",
       "     Gross National Income (GNI) per Capita  \\\n",
       "151                                  5341.0   \n",
       "152                                  2803.0   \n",
       "153                                  1328.0   \n",
       "154                                  1615.0   \n",
       "155                                  3560.0   \n",
       "156                                  1540.0   \n",
       "157                                  2463.0   \n",
       "158                                  1456.0   \n",
       "159                                  3519.0   \n",
       "160                                  3306.0   \n",
       "161                                  1228.0   \n",
       "162                                  1669.0   \n",
       "163                                  1458.0   \n",
       "164                                  1613.0   \n",
       "165                                  1767.0   \n",
       "166                                  3809.0   \n",
       "167                                  3276.0   \n",
       "168                                  2332.0   \n",
       "169                                  2188.0   \n",
       "170                                  1885.0   \n",
       "171                                  3171.0   \n",
       "172                                   747.0   \n",
       "173                                  1428.0   \n",
       "174                                  1507.0   \n",
       "175                                   680.0   \n",
       "176                                   805.0   \n",
       "177                                  1362.0   \n",
       "178                                  1583.0   \n",
       "179                                  1123.0   \n",
       "180                                  1780.0   \n",
       "181                                  1096.0   \n",
       "182                                  1591.0   \n",
       "183                                   758.0   \n",
       "184                                  2085.0   \n",
       "185                                  1130.0   \n",
       "186                                   581.0   \n",
       "187                                   908.0   \n",
       "\n",
       "     GNI per Capita Rank Minus HDI Rank  \n",
       "151                               -24.0  \n",
       "152                                -1.0  \n",
       "153                                24.0  \n",
       "154                                13.0  \n",
       "155                               -14.0  \n",
       "156                                16.0  \n",
       "157                                -1.0  \n",
       "158                                16.0  \n",
       "159                               -17.0  \n",
       "160                               -16.0  \n",
       "161                                17.0  \n",
       "162                                 4.0  \n",
       "163                                11.0  \n",
       "164                                 6.0  \n",
       "165                                 0.0  \n",
       "166                               -27.0  \n",
       "167                               -22.0  \n",
       "168                                -9.0  \n",
       "169                                -8.0  \n",
       "170                                -7.0  \n",
       "171                               -24.0  \n",
       "172                                13.0  \n",
       "173                                 2.0  \n",
       "174                                -2.0  \n",
       "175                                11.0  \n",
       "176                                 7.0  \n",
       "177                                -1.0  \n",
       "178                                -8.0  \n",
       "179                                 1.0  \n",
       "180                               -16.0  \n",
       "181                                 0.0  \n",
       "182                               -13.0  \n",
       "183                                 1.0  \n",
       "184                               -22.0  \n",
       "185                                -6.0  \n",
       "186                                 1.0  \n",
       "187                                -5.0  "
      ]
     },
     "execution_count": 8,
     "metadata": {},
     "output_type": "execute_result"
    }
   ],
   "source": [
    "last_50 = last_50[0:37]\n",
    "last_50"
   ]
  },
  {
   "cell_type": "code",
   "execution_count": 41,
   "metadata": {
    "collapsed": false
   },
   "outputs": [],
   "source": [
    "rank = []\n",
    "rank_numbers = []\n",
    "curr = 0.9\n",
    "counter = 1\n",
    "index = human_dev[\"Human Development Index (HDI)\"]\n",
    "for i in range(len(human_dev)): \n",
    "    if index[i] >= curr: \n",
    "        rank_numbers.append(counter)\n",
    "    else: \n",
    "        counter +=1\n",
    "        curr -= 0.1\n",
    "        rank_numbers.append(counter)"
   ]
  },
  {
   "cell_type": "code",
   "execution_count": 42,
   "metadata": {
    "collapsed": false
   },
   "outputs": [
    {
     "data": {
      "text/plain": [
       "[]"
      ]
     },
     "execution_count": 42,
     "metadata": {},
     "output_type": "execute_result"
    }
   ],
   "source": [
    "rank[0:5]"
   ]
  },
  {
   "cell_type": "code",
   "execution_count": 43,
   "metadata": {
    "collapsed": false
   },
   "outputs": [],
   "source": [
    "rank = pd.DataFrame(rank)\n",
    "rank_numbers = pd.DataFrame(rank_numbers)"
   ]
  },
  {
   "cell_type": "code",
   "execution_count": 44,
   "metadata": {
    "collapsed": false
   },
   "outputs": [],
   "source": [
    "rank_numbers.columns = [\"Rank\"]"
   ]
  },
  {
   "cell_type": "code",
   "execution_count": 45,
   "metadata": {
    "collapsed": true
   },
   "outputs": [],
   "source": [
    "dev_with_rank = pd.concat([human_dev, rank_numbers], axis = 1)"
   ]
  },
  {
   "cell_type": "code",
   "execution_count": 46,
   "metadata": {
    "collapsed": false
   },
   "outputs": [
    {
     "data": {
      "text/html": [
       "<div>\n",
       "<table border=\"1\" class=\"dataframe\">\n",
       "  <thead>\n",
       "    <tr style=\"text-align: right;\">\n",
       "      <th></th>\n",
       "      <th>HDI Rank</th>\n",
       "      <th>Country</th>\n",
       "      <th>Human Development Index (HDI)</th>\n",
       "      <th>Life Expectancy at Birth</th>\n",
       "      <th>Expected Years of Education</th>\n",
       "      <th>Mean Years of Education</th>\n",
       "      <th>Gross National Income (GNI) per Capita</th>\n",
       "      <th>GNI per Capita Rank Minus HDI Rank</th>\n",
       "      <th>Rank</th>\n",
       "    </tr>\n",
       "  </thead>\n",
       "  <tbody>\n",
       "    <tr>\n",
       "      <th>0</th>\n",
       "      <td>1.0</td>\n",
       "      <td>Norway</td>\n",
       "      <td>0.94</td>\n",
       "      <td>81.6</td>\n",
       "      <td>17.5</td>\n",
       "      <td>12.6</td>\n",
       "      <td>64992.0</td>\n",
       "      <td>5.0</td>\n",
       "      <td>1</td>\n",
       "    </tr>\n",
       "    <tr>\n",
       "      <th>1</th>\n",
       "      <td>2.0</td>\n",
       "      <td>Australia</td>\n",
       "      <td>0.94</td>\n",
       "      <td>82.4</td>\n",
       "      <td>20.2</td>\n",
       "      <td>13.0</td>\n",
       "      <td>42261.0</td>\n",
       "      <td>17.0</td>\n",
       "      <td>1</td>\n",
       "    </tr>\n",
       "    <tr>\n",
       "      <th>2</th>\n",
       "      <td>3.0</td>\n",
       "      <td>Switzerland</td>\n",
       "      <td>0.93</td>\n",
       "      <td>83.0</td>\n",
       "      <td>15.8</td>\n",
       "      <td>12.8</td>\n",
       "      <td>56431.0</td>\n",
       "      <td>6.0</td>\n",
       "      <td>1</td>\n",
       "    </tr>\n",
       "    <tr>\n",
       "      <th>3</th>\n",
       "      <td>4.0</td>\n",
       "      <td>Denmark</td>\n",
       "      <td>0.92</td>\n",
       "      <td>80.2</td>\n",
       "      <td>18.7</td>\n",
       "      <td>12.7</td>\n",
       "      <td>44025.0</td>\n",
       "      <td>11.0</td>\n",
       "      <td>1</td>\n",
       "    </tr>\n",
       "    <tr>\n",
       "      <th>4</th>\n",
       "      <td>5.0</td>\n",
       "      <td>Netherlands</td>\n",
       "      <td>0.92</td>\n",
       "      <td>81.6</td>\n",
       "      <td>17.9</td>\n",
       "      <td>11.9</td>\n",
       "      <td>45435.0</td>\n",
       "      <td>9.0</td>\n",
       "      <td>1</td>\n",
       "    </tr>\n",
       "  </tbody>\n",
       "</table>\n",
       "</div>"
      ],
      "text/plain": [
       "   HDI Rank      Country  Human Development Index (HDI)  \\\n",
       "0       1.0       Norway                           0.94   \n",
       "1       2.0    Australia                           0.94   \n",
       "2       3.0  Switzerland                           0.93   \n",
       "3       4.0      Denmark                           0.92   \n",
       "4       5.0  Netherlands                           0.92   \n",
       "\n",
       "   Life Expectancy at Birth  Expected Years of Education  \\\n",
       "0                      81.6                         17.5   \n",
       "1                      82.4                         20.2   \n",
       "2                      83.0                         15.8   \n",
       "3                      80.2                         18.7   \n",
       "4                      81.6                         17.9   \n",
       "\n",
       "   Mean Years of Education  Gross National Income (GNI) per Capita  \\\n",
       "0                     12.6                                 64992.0   \n",
       "1                     13.0                                 42261.0   \n",
       "2                     12.8                                 56431.0   \n",
       "3                     12.7                                 44025.0   \n",
       "4                     11.9                                 45435.0   \n",
       "\n",
       "   GNI per Capita Rank Minus HDI Rank  Rank  \n",
       "0                                 5.0     1  \n",
       "1                                17.0     1  \n",
       "2                                 6.0     1  \n",
       "3                                11.0     1  \n",
       "4                                 9.0     1  "
      ]
     },
     "execution_count": 46,
     "metadata": {},
     "output_type": "execute_result"
    }
   ],
   "source": [
    "dev_with_rank[0:5]"
   ]
  },
  {
   "cell_type": "code",
   "execution_count": 47,
   "metadata": {
    "collapsed": false
   },
   "outputs": [
    {
     "data": {
      "text/html": [
       "<div>\n",
       "<table border=\"1\" class=\"dataframe\">\n",
       "  <thead>\n",
       "    <tr style=\"text-align: right;\">\n",
       "      <th></th>\n",
       "      <th>HDI Rank</th>\n",
       "      <th>Country</th>\n",
       "      <th>Human Development Index (HDI)</th>\n",
       "      <th>Life Expectancy at Birth</th>\n",
       "      <th>Expected Years of Education</th>\n",
       "      <th>Mean Years of Education</th>\n",
       "      <th>Gross National Income (GNI) per Capita</th>\n",
       "      <th>GNI per Capita Rank Minus HDI Rank</th>\n",
       "      <th>Rank</th>\n",
       "    </tr>\n",
       "  </thead>\n",
       "  <tbody>\n",
       "    <tr>\n",
       "      <th>149</th>\n",
       "      <td>150.0</td>\n",
       "      <td>Swaziland</td>\n",
       "      <td>0.53</td>\n",
       "      <td>49.0</td>\n",
       "      <td>11.3</td>\n",
       "      <td>7.1</td>\n",
       "      <td>5542.0</td>\n",
       "      <td>-25.0</td>\n",
       "      <td>5</td>\n",
       "    </tr>\n",
       "    <tr>\n",
       "      <th>150</th>\n",
       "      <td>151.0</td>\n",
       "      <td>Tanzania (United Republic of)</td>\n",
       "      <td>0.52</td>\n",
       "      <td>65.0</td>\n",
       "      <td>9.2</td>\n",
       "      <td>5.1</td>\n",
       "      <td>2411.0</td>\n",
       "      <td>8.0</td>\n",
       "      <td>5</td>\n",
       "    </tr>\n",
       "    <tr>\n",
       "      <th>151</th>\n",
       "      <td>152.0</td>\n",
       "      <td>Nigeria</td>\n",
       "      <td>0.51</td>\n",
       "      <td>52.8</td>\n",
       "      <td>9.0</td>\n",
       "      <td>5.9</td>\n",
       "      <td>5341.0</td>\n",
       "      <td>-24.0</td>\n",
       "      <td>5</td>\n",
       "    </tr>\n",
       "    <tr>\n",
       "      <th>152</th>\n",
       "      <td>153.0</td>\n",
       "      <td>Cameroon</td>\n",
       "      <td>0.51</td>\n",
       "      <td>55.5</td>\n",
       "      <td>10.4</td>\n",
       "      <td>6.0</td>\n",
       "      <td>2803.0</td>\n",
       "      <td>-1.0</td>\n",
       "      <td>5</td>\n",
       "    </tr>\n",
       "    <tr>\n",
       "      <th>153</th>\n",
       "      <td>154.0</td>\n",
       "      <td>Madagascar</td>\n",
       "      <td>0.51</td>\n",
       "      <td>65.1</td>\n",
       "      <td>10.3</td>\n",
       "      <td>6.0</td>\n",
       "      <td>1328.0</td>\n",
       "      <td>24.0</td>\n",
       "      <td>5</td>\n",
       "    </tr>\n",
       "    <tr>\n",
       "      <th>154</th>\n",
       "      <td>155.0</td>\n",
       "      <td>Zimbabwe</td>\n",
       "      <td>0.51</td>\n",
       "      <td>57.5</td>\n",
       "      <td>10.9</td>\n",
       "      <td>7.3</td>\n",
       "      <td>1615.0</td>\n",
       "      <td>13.0</td>\n",
       "      <td>5</td>\n",
       "    </tr>\n",
       "  </tbody>\n",
       "</table>\n",
       "</div>"
      ],
      "text/plain": [
       "     HDI Rank                        Country  Human Development Index (HDI)  \\\n",
       "149     150.0                      Swaziland                           0.53   \n",
       "150     151.0  Tanzania (United Republic of)                           0.52   \n",
       "151     152.0                        Nigeria                           0.51   \n",
       "152     153.0                       Cameroon                           0.51   \n",
       "153     154.0                     Madagascar                           0.51   \n",
       "154     155.0                       Zimbabwe                           0.51   \n",
       "\n",
       "     Life Expectancy at Birth  Expected Years of Education  \\\n",
       "149                      49.0                         11.3   \n",
       "150                      65.0                          9.2   \n",
       "151                      52.8                          9.0   \n",
       "152                      55.5                         10.4   \n",
       "153                      65.1                         10.3   \n",
       "154                      57.5                         10.9   \n",
       "\n",
       "     Mean Years of Education  Gross National Income (GNI) per Capita  \\\n",
       "149                      7.1                                  5542.0   \n",
       "150                      5.1                                  2411.0   \n",
       "151                      5.9                                  5341.0   \n",
       "152                      6.0                                  2803.0   \n",
       "153                      6.0                                  1328.0   \n",
       "154                      7.3                                  1615.0   \n",
       "\n",
       "     GNI per Capita Rank Minus HDI Rank  Rank  \n",
       "149                               -25.0     5  \n",
       "150                                 8.0     5  \n",
       "151                               -24.0     5  \n",
       "152                                -1.0     5  \n",
       "153                                24.0     5  \n",
       "154                                13.0     5  "
      ]
     },
     "execution_count": 47,
     "metadata": {},
     "output_type": "execute_result"
    }
   ],
   "source": [
    "dev_with_rank[149:155]"
   ]
  },
  {
   "cell_type": "code",
   "execution_count": null,
   "metadata": {
    "collapsed": false
   },
   "outputs": [],
   "source": []
  },
  {
   "cell_type": "code",
   "execution_count": null,
   "metadata": {
    "collapsed": false
   },
   "outputs": [],
   "source": []
  },
  {
   "cell_type": "code",
   "execution_count": 48,
   "metadata": {
    "collapsed": false
   },
   "outputs": [],
   "source": [
    "new_hdi = dev_with_rank"
   ]
  },
  {
   "cell_type": "code",
   "execution_count": 49,
   "metadata": {
    "collapsed": false
   },
   "outputs": [],
   "source": [
    "new_hdi = new_hdi[0:188]"
   ]
  },
  {
   "cell_type": "code",
   "execution_count": 50,
   "metadata": {
    "collapsed": true
   },
   "outputs": [],
   "source": [
    "n_features = 5\n",
    "n_samples = 188\n",
    "n_labels = 4"
   ]
  },
  {
   "cell_type": "code",
   "execution_count": 51,
   "metadata": {
    "collapsed": false
   },
   "outputs": [
    {
     "data": {
      "text/plain": [
       "<Container object of 188 artists>"
      ]
     },
     "execution_count": 51,
     "metadata": {},
     "output_type": "execute_result"
    },
    {
     "data": {
      "image/png": "[encoded data removed]",
      "text/plain": [
       "<matplotlib.figure.Figure at 0x112382b50>"
      ]
     },
     "metadata": {},
     "output_type": "display_data"
    }
   ],
   "source": [
    "plt.bar(new_hdi[\"HDI Rank\"], new_hdi[\"Human Development Index (HDI)\"])"
   ]
  },
  {
   "cell_type": "code",
   "execution_count": 52,
   "metadata": {
    "collapsed": false
   },
   "outputs": [
    {
     "data": {
      "text/html": [
       "<div>\n",
       "<table border=\"1\" class=\"dataframe\">\n",
       "  <thead>\n",
       "    <tr style=\"text-align: right;\">\n",
       "      <th></th>\n",
       "      <th>Life Expectancy at Birth</th>\n",
       "      <th>Expected Years of Education</th>\n",
       "      <th>Mean Years of Education</th>\n",
       "      <th>Gross National Income (GNI) per Capita</th>\n",
       "      <th>GNI per Capita Rank Minus HDI Rank</th>\n",
       "    </tr>\n",
       "  </thead>\n",
       "  <tbody>\n",
       "    <tr>\n",
       "      <th>0</th>\n",
       "      <td>81.6</td>\n",
       "      <td>17.5</td>\n",
       "      <td>12.6</td>\n",
       "      <td>64992.0</td>\n",
       "      <td>5.0</td>\n",
       "    </tr>\n",
       "    <tr>\n",
       "      <th>1</th>\n",
       "      <td>82.4</td>\n",
       "      <td>20.2</td>\n",
       "      <td>13.0</td>\n",
       "      <td>42261.0</td>\n",
       "      <td>17.0</td>\n",
       "    </tr>\n",
       "    <tr>\n",
       "      <th>2</th>\n",
       "      <td>83.0</td>\n",
       "      <td>15.8</td>\n",
       "      <td>12.8</td>\n",
       "      <td>56431.0</td>\n",
       "      <td>6.0</td>\n",
       "    </tr>\n",
       "    <tr>\n",
       "      <th>3</th>\n",
       "      <td>80.2</td>\n",
       "      <td>18.7</td>\n",
       "      <td>12.7</td>\n",
       "      <td>44025.0</td>\n",
       "      <td>11.0</td>\n",
       "    </tr>\n",
       "    <tr>\n",
       "      <th>4</th>\n",
       "      <td>81.6</td>\n",
       "      <td>17.9</td>\n",
       "      <td>11.9</td>\n",
       "      <td>45435.0</td>\n",
       "      <td>9.0</td>\n",
       "    </tr>\n",
       "  </tbody>\n",
       "</table>\n",
       "</div>"
      ],
      "text/plain": [
       "   Life Expectancy at Birth  Expected Years of Education  \\\n",
       "0                      81.6                         17.5   \n",
       "1                      82.4                         20.2   \n",
       "2                      83.0                         15.8   \n",
       "3                      80.2                         18.7   \n",
       "4                      81.6                         17.9   \n",
       "\n",
       "   Mean Years of Education  Gross National Income (GNI) per Capita  \\\n",
       "0                     12.6                                 64992.0   \n",
       "1                     13.0                                 42261.0   \n",
       "2                     12.8                                 56431.0   \n",
       "3                     12.7                                 44025.0   \n",
       "4                     11.9                                 45435.0   \n",
       "\n",
       "   GNI per Capita Rank Minus HDI Rank  \n",
       "0                                 5.0  \n",
       "1                                17.0  \n",
       "2                                 6.0  \n",
       "3                                11.0  \n",
       "4                                 9.0  "
      ]
     },
     "execution_count": 52,
     "metadata": {},
     "output_type": "execute_result"
    }
   ],
   "source": [
    "features_df = new_hdi[[\"Life Expectancy at Birth\",\"Expected Years of Education\", \"Mean Years of Education\", \\\n",
    "                    \"Gross National Income (GNI) per Capita\", \"GNI per Capita Rank Minus HDI Rank\"]]\n",
    "features_df[0:5]"
   ]
  },
  {
   "cell_type": "code",
   "execution_count": 53,
   "metadata": {
    "collapsed": false
   },
   "outputs": [
    {
     "data": {
      "text/plain": [
       "0    1\n",
       "1    1\n",
       "2    1\n",
       "3    1\n",
       "4    1\n",
       "Name: Rank, dtype: int64"
      ]
     },
     "execution_count": 53,
     "metadata": {},
     "output_type": "execute_result"
    }
   ],
   "source": [
    "labels = new_hdi[\"Rank\"][0:188]\n",
    "labels[0:5]"
   ]
  },
  {
   "cell_type": "code",
   "execution_count": 54,
   "metadata": {
    "collapsed": false
   },
   "outputs": [],
   "source": [
    "features = features_df.as_matrix()\n",
    "labels= labels.as_matrix()"
   ]
  },
  {
   "cell_type": "code",
   "execution_count": 55,
   "metadata": {
    "collapsed": false
   },
   "outputs": [
    {
     "name": "stdout",
     "output_type": "stream",
     "text": [
      "188\n",
      "188\n"
     ]
    }
   ],
   "source": [
    "print len(labels)\n",
    "print len(features)"
   ]
  },
  {
   "cell_type": "code",
   "execution_count": 56,
   "metadata": {
    "collapsed": false
   },
   "outputs": [],
   "source": [
    "from sklearn.model_selection import train_test_split\n",
    "features_train, features_test, labels_train, labels_test = train_test_split(features, labels, test_size=0.33, random_state=42)"
   ]
  },
  {
   "cell_type": "code",
   "execution_count": 57,
   "metadata": {
    "collapsed": true
   },
   "outputs": [],
   "source": [
    "## NAIVE BAYES\n",
    "\n",
    "from sklearn.naive_bayes import GaussianNB\n",
    "gnb = GaussianNB()"
   ]
  },
  {
   "cell_type": "code",
   "execution_count": 58,
   "metadata": {
    "collapsed": false
   },
   "outputs": [
    {
     "name": "stdout",
     "output_type": "stream",
     "text": [
      "125\n",
      "125\n"
     ]
    }
   ],
   "source": [
    "gnb.fit(features_train,labels_train)\n",
    "print len(labels_train)\n",
    "print len(features_train)"
   ]
  },
  {
   "cell_type": "code",
   "execution_count": 59,
   "metadata": {
    "collapsed": false
   },
   "outputs": [
    {
     "data": {
      "text/plain": [
       "63"
      ]
     },
     "execution_count": 59,
     "metadata": {},
     "output_type": "execute_result"
    }
   ],
   "source": [
    "prediction_gnb = gnb.predict(features_test)\n",
    "len(prediction_gnb)\n",
    "# multiclass confusion matrix \n",
    "# multiclass accuracy = sum of diagonal / raw sum of matrix"
   ]
  },
  {
   "cell_type": "code",
   "execution_count": 60,
   "metadata": {
    "collapsed": false
   },
   "outputs": [
    {
     "data": {
      "text/plain": [
       "array([[ 5,  1,  0,  0,  0,  0,  0],\n",
       "       [ 2,  9,  1,  0,  0,  0,  0],\n",
       "       [ 0,  2, 16,  1,  0,  0,  0],\n",
       "       [ 0,  0,  1,  6,  2,  0,  0],\n",
       "       [ 0,  0,  0,  1,  4,  2,  0],\n",
       "       [ 0,  0,  0,  0,  2,  6,  1],\n",
       "       [ 0,  0,  0,  0,  0,  1,  0]])"
      ]
     },
     "execution_count": 60,
     "metadata": {},
     "output_type": "execute_result"
    }
   ],
   "source": [
    "from sklearn import metrics\n",
    "conf_matNB = metrics.confusion_matrix(labels_test, prediction_gnb)\n",
    "conf_matNB"
   ]
  },
  {
   "cell_type": "code",
   "execution_count": 61,
   "metadata": {
    "collapsed": false
   },
   "outputs": [
    {
     "name": "stdout",
     "output_type": "stream",
     "text": [
      "46 63\n"
     ]
    }
   ],
   "source": [
    "total = 0\n",
    "diag = 0\n",
    "for i in range(len(conf_matNB)):\n",
    "    curr = conf_matNB[i]\n",
    "    for j in range(len(curr)):\n",
    "        total += curr[j]\n",
    "        if i == j:\n",
    "            diag += curr[j]\n",
    "print diag, total"
   ]
  },
  {
   "cell_type": "code",
   "execution_count": 62,
   "metadata": {
    "collapsed": false
   },
   "outputs": [
    {
     "name": "stdout",
     "output_type": "stream",
     "text": [
      "0.730158730159\n"
     ]
    }
   ],
   "source": [
    "accuracy = float(diag) / float(total)\n",
    "print accuracy"
   ]
  },
  {
   "cell_type": "code",
   "execution_count": 63,
   "metadata": {
    "collapsed": false
   },
   "outputs": [
    {
     "data": {
      "text/plain": [
       "DecisionTreeClassifier(class_weight=None, criterion='gini', max_depth=4,\n",
       "            max_features=None, max_leaf_nodes=None,\n",
       "            min_impurity_split=1e-07, min_samples_leaf=1,\n",
       "            min_samples_split=2, min_weight_fraction_leaf=0.0,\n",
       "            presort=False, random_state=None, splitter='best')"
      ]
     },
     "execution_count": 63,
     "metadata": {},
     "output_type": "execute_result"
    }
   ],
   "source": [
    "# DECISION TREE\n",
    "\n",
    "from sklearn import tree\n",
    "dt = tree.DecisionTreeClassifier(max_depth=4)\n",
    "dt.fit(features_train,labels_train)"
   ]
  },
  {
   "cell_type": "code",
   "execution_count": 64,
   "metadata": {
    "collapsed": false
   },
   "outputs": [],
   "source": [
    "# attempted to visualize tree but failure"
   ]
  },
  {
   "cell_type": "code",
   "execution_count": 65,
   "metadata": {
    "collapsed": false
   },
   "outputs": [
    {
     "name": "stdout",
     "output_type": "stream",
     "text": [
      "[[ 2  4  0  0  0  0  0]\n",
      " [ 0 11  1  0  0  0  0]\n",
      " [ 0  1 12  6  0  0  0]\n",
      " [ 0  0  0  7  2  0  0]\n",
      " [ 0  0  0  1  5  1  0]\n",
      " [ 0  0  0  0  4  5  0]\n",
      " [ 0  0  0  0  0  1  0]]\n"
     ]
    }
   ],
   "source": [
    "from sklearn.metrics import confusion_matrix\n",
    "predictions = dt.predict(features_test)\n",
    "probabilities = dt.predict_proba(features_test)\n",
    "cm = confusion_matrix(labels_test,predictions)\n",
    "print (cm)"
   ]
  },
  {
   "cell_type": "code",
   "execution_count": 66,
   "metadata": {
    "collapsed": false
   },
   "outputs": [
    {
     "name": "stdout",
     "output_type": "stream",
     "text": [
      "42 63\n",
      "accuracy: 0.666666666667\n"
     ]
    }
   ],
   "source": [
    "total = 0\n",
    "diag = 0\n",
    "for i in range(len(cm)):\n",
    "    curr = cm[i]\n",
    "    for j in range(len(curr)):\n",
    "        total += curr[j]\n",
    "        if i == j:\n",
    "            diag += curr[j]\n",
    "print diag, total\n",
    "print \"accuracy:\", float(diag) / float(total)"
   ]
  },
  {
   "cell_type": "code",
   "execution_count": 67,
   "metadata": {
    "collapsed": false
   },
   "outputs": [],
   "source": [
    "from sklearn.neighbors import KNeighborsClassifier\n",
    "neigh = KNeighborsClassifier(n_neighbors=20)"
   ]
  },
  {
   "cell_type": "code",
   "execution_count": 68,
   "metadata": {
    "collapsed": false
   },
   "outputs": [],
   "source": [
    "neigh = KNeighborsClassifier(n_neighbors=10)\n",
    "neigh.fit(features_train,labels_train)\n",
    "predictions_test = neigh.predict(features_test)"
   ]
  },
  {
   "cell_type": "code",
   "execution_count": 69,
   "metadata": {
    "collapsed": false
   },
   "outputs": [
    {
     "data": {
      "text/plain": [
       "array([[ 3,  3,  0,  0,  0,  0,  0],\n",
       "       [ 3,  8,  1,  0,  0,  0,  0],\n",
       "       [ 0,  1, 13,  5,  0,  0,  0],\n",
       "       [ 0,  0,  2,  6,  1,  0,  0],\n",
       "       [ 0,  0,  0,  2,  3,  2,  0],\n",
       "       [ 0,  0,  0,  0,  3,  6,  0],\n",
       "       [ 0,  0,  0,  0,  0,  1,  0]])"
      ]
     },
     "execution_count": 69,
     "metadata": {},
     "output_type": "execute_result"
    }
   ],
   "source": [
    "cm = confusion_matrix(labels_test,predictions_test)\n",
    "cm"
   ]
  },
  {
   "cell_type": "code",
   "execution_count": 70,
   "metadata": {
    "collapsed": false
   },
   "outputs": [
    {
     "name": "stdout",
     "output_type": "stream",
     "text": [
      "39 63\n",
      "accuracy: 0.619047619048\n"
     ]
    }
   ],
   "source": [
    "total = 0\n",
    "diag = 0\n",
    "for i in range(len(cm)):\n",
    "    curr = cm[i]\n",
    "    for j in range(len(curr)):\n",
    "        total += curr[j]\n",
    "        if i == j:\n",
    "            diag += curr[j]\n",
    "print diag, total\n",
    "print \"accuracy:\", float(diag) / float(total)"
   ]
  },
  {
   "cell_type": "code",
   "execution_count": 71,
   "metadata": {
    "collapsed": true
   },
   "outputs": [],
   "source": [
    "from sklearn import linear_model, tree\n",
    "from sklearn.metrics import mean_squared_error\n",
    "import numpy as np\n",
    "\n",
    "def showRegression(model, regressionType, features_train, target_train, features_test, target_test):\n",
    "    model.fit(features_train,target_train)\n",
    "    predictions= model.predict(features_test)\n",
    "    print(regressionType)\n",
    "    mseScores[regressionType]= np.sqrt(mean_squared_error(target_test,predictions))\n",
    "    print(\"MSE: \", np.sqrt(mean_squared_error(target_test,predictions)))\n",
    "\n",
    "    plt.figure(figsize=(8,6))\n",
    "    plt.plot([0.0,1.0],[0.0,1.0],\"-\",linewidth=2,c=\"r\")\n",
    "    plt.plot(target_test,predictions,\"o\",markersize=5,alpha=0.2,c=\"b\")\n",
    "    plt.xlabel(\"actual human development index\")\n",
    "    plt.ylabel(\"predicted human development index\")\n",
    "\n",
    "mseScores = {}"
   ]
  },
  {
   "cell_type": "code",
   "execution_count": 75,
   "metadata": {
    "collapsed": false
   },
   "outputs": [
    {
     "name": "stdout",
     "output_type": "stream",
     "text": [
      "Linear Regression\n",
      "('MSE: ', 0.0109864285874766)\n"
     ]
    },
    {
     "data": {
      "image/png": "[encoded data removed]",
      "text/plain": [
       "<matplotlib.figure.Figure at 0x111cb8550>"
      ]
     },
     "metadata": {},
     "output_type": "display_data"
    }
   ],
   "source": [
    "from sklearn.model_selection import train_test_split\n",
    "from sklearn import metrics\n",
    "target = human_dev[\"Human Development Index (HDI)\"][0:188]\n",
    "target = target.as_matrix()\n",
    "\n",
    "features_train, features_test, target_train, target_test = train_test_split(features, target, test_size=0.33, random_state=42)\n",
    "model= linear_model.LinearRegression()\n",
    "showRegression(model, \"Linear Regression\", features_train,target_train, features_test, target_test)"
   ]
  },
  {
   "cell_type": "code",
   "execution_count": null,
   "metadata": {
    "collapsed": true
   },
   "outputs": [],
   "source": [
    "#with 7 categories: acc = .731\n",
    "#with 4 categories acc = 0.904"
   ]
  }
 ],
 "metadata": {
  "kernelspec": {
   "display_name": "Python 2",
   "language": "python",
   "name": "python2"
  },
  "language_info": {
   "codemirror_mode": {
    "name": "ipython",
    "version": 2
   },
   "file_extension": ".py",
   "mimetype": "text/x-python",
   "name": "python",
   "nbconvert_exporter": "python",
   "pygments_lexer": "ipython2",
   "version": "2.7.13"
  }
 },
 "nbformat": 4,
 "nbformat_minor": 2
}
